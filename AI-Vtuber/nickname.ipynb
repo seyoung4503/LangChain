{
 "cells": [
  {
   "cell_type": "code",
   "execution_count": 2,
   "metadata": {},
   "outputs": [
    {
     "data": {
      "text/plain": [
       "'nicknames.csv'"
      ]
     },
     "execution_count": 2,
     "metadata": {},
     "output_type": "execute_result"
    }
   ],
   "source": [
    "import pandas as pd\n",
    "import random\n",
    "\n",
    "# 한글 닉네임 리스트 (예시)\n",
    "korean_nicknames = [\n",
    "    \"푸른바람\", \"흰늑대\", \"검은태양\", \"빛의수호자\", \"어둠의군주\", \"고요한파도\", \"붉은별\",\n",
    "    \"황금용\", \"푸른불꽃\", \"달빛전사\", \"천둥의아이\", \"잃어버린영혼\", \"신비한마법사\", \"어둠의왕\",\n",
    "    \"무한의검사\", \"차가운눈물\", \"따뜻한미소\", \"검은날개\", \"거친파도\", \"바람의소리\",\n",
    "    \"마지막용사\", \"불멸의혼\", \"별의노래\", \"파도의춤\", \"영원한빛\", \"검의전설\", \"마법의숲\",\n",
    "    \"심연의그림자\", \"푸른달\", \"붉은장미\", \"차가운심장\", \"신성한빛\", \"용의숨결\", \"검은마법\",\n",
    "    \"달의눈\", \"폭풍의전사\", \"잔잔한바다\", \"무지개빛환상\", \"고독한기사\", \"별빛의여행자\",\n",
    "    \"어둠의눈\", \"마지막기사\", \"불타는영혼\", \"고요한전사\", \"신의은총\", \"혼돈의군주\", \"차가운바람\",\n",
    "    \"붉은독수리\", \"마법의나무\", \"성스러운검\", \"은빛늑대\"\n",
    "]\n",
    "\n",
    "# 영어 닉네임 리스트 (예시)\n",
    "english_nicknames = [\n",
    "    \"BlueWind\", \"WhiteWolf\", \"BlackSun\", \"GuardianOfLight\", \"LordOfDarkness\", \"SilentWave\",\n",
    "    \"RedStar\", \"GoldenDragon\", \"BlueFlame\", \"MoonlightWarrior\", \"ThunderChild\", \"LostSoul\",\n",
    "    \"MysticMage\", \"KingOfShadows\", \"InfiniteSwordsman\", \"ColdTears\", \"WarmSmile\", \"BlackWings\",\n",
    "    \"WildWave\", \"WhisperingWind\", \"LastWarrior\", \"ImmortalSoul\", \"SongOfStars\", \"DanceOfWaves\",\n",
    "    \"EternalLight\", \"LegendOfSword\", \"EnchantedForest\", \"AbyssShadow\", \"BlueMoon\", \"RedRose\",\n",
    "    \"ColdHeart\", \"SacredLight\", \"DragonBreath\", \"DarkMagic\", \"EyesOfTheMoon\", \"StormWarrior\",\n",
    "    \"CalmSea\", \"RainbowDream\", \"LonelyKnight\", \"StarTraveler\", \"EyesOfDarkness\", \"FinalKnight\",\n",
    "    \"BurningSoul\", \"SilentWarrior\", \"GraceOfGod\", \"LordOfChaos\", \"ColdWind\", \"RedEagle\",\n",
    "    \"MagicTree\", \"HolySword\", \"SilverWolf\"\n",
    "]\n",
    "\n",
    "# 100개의 닉네임을 생성\n",
    "nicknames = korean_nicknames + english_nicknames\n",
    "\n",
    "# 데이터프레임 생성\n",
    "df = pd.DataFrame(nicknames)\n",
    "\n",
    "# CSV 파일 저장\n",
    "file_path = \"nicknames.csv\"\n",
    "df.to_csv(file_path, index=False, encoding=\"utf-8-sig\")\n",
    "\n",
    "# CSV 파일 경로 출력\n",
    "file_path\n"
   ]
  }
 ],
 "metadata": {
  "kernelspec": {
   "display_name": "langchain-kr-46Oa1ic7-py3.11",
   "language": "python",
   "name": "python3"
  },
  "language_info": {
   "codemirror_mode": {
    "name": "ipython",
    "version": 3
   },
   "file_extension": ".py",
   "mimetype": "text/x-python",
   "name": "python",
   "nbconvert_exporter": "python",
   "pygments_lexer": "ipython3",
   "version": "3.11.7"
  }
 },
 "nbformat": 4,
 "nbformat_minor": 2
}
