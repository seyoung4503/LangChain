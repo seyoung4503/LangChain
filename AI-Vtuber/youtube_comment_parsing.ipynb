{
 "cells": [
  {
   "cell_type": "code",
   "execution_count": 14,
   "metadata": {},
   "outputs": [
    {
     "name": "stdout",
     "output_type": "stream",
     "text": [
      "          user_id                          contents\n",
      "0    @지나가던팬Please                      1:56 won 할머니\n",
      "1      @HhbbgFvvg                   1:51 입벌리는거 귀여어ㅓ\n",
      "2     @레바의부끄러운아들청                   3:37 와… 이걸 까네..\n",
      "3     @khanea2002            파인애플이 왜 그런명칭으로 불리나요?.?\n",
      "4            @아햏햏                    2:48 파인애플 아냐??\n",
      "..            ...                               ...\n",
      "441      @스와와-u8y                           도롱챠 귀엽다\n",
      "442      @rstoria  귀여우면 되짜나 롱챠 T야?\\n근데 잉크가 낭비된거같긴해😂\n",
      "443      @UGI_Dev                             1등챠~~\n",
      "444    @minsu0630                     이스터에그 같음 ㅋㅋㅋㅋ\n",
      "445        @쿠쿠로삥봉                           ㅇㅈㅋㅋㅋㅋㅋ\n",
      "\n",
      "[446 rows x 2 columns]\n",
      "✅ 'pseudo_chat.csv' 파일로 저장 완료!\n"
     ]
    }
   ],
   "source": [
    "import pandas as pd\n",
    "\n",
    "# CSV 파일 읽기\n",
    "csv_file = \"ExampleYoutubeComments.csv\"  # 실제 파일 경로로 변경\n",
    "df = pd.read_csv(csv_file)\n",
    "\n",
    "# text, author 필드만 추출\n",
    "df_selected = df[['author', 'text']].rename(columns={'author': 'user_id', 'text': 'contents'})\n",
    "\n",
    "print(df_selected)\n",
    "\n",
    "output_file = \"pseudo_chat.csv\"\n",
    "df_selected.to_csv(output_file, index=False, encoding=\"utf-8\")\n",
    "\n",
    "print(f\"✅ '{output_file}' 파일로 저장 완료!\")\n"
   ]
  }
 ],
 "metadata": {
  "kernelspec": {
   "display_name": "langchain-kr-H-1k3tU1-py3.11",
   "language": "python",
   "name": "python3"
  },
  "language_info": {
   "codemirror_mode": {
    "name": "ipython",
    "version": 3
   },
   "file_extension": ".py",
   "mimetype": "text/x-python",
   "name": "python",
   "nbconvert_exporter": "python",
   "pygments_lexer": "ipython3",
   "version": "3.11.11"
  }
 },
 "nbformat": 4,
 "nbformat_minor": 2
}
