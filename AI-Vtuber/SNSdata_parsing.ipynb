{
 "cells": [
  {
   "cell_type": "code",
   "execution_count": 2,
   "metadata": {},
   "outputs": [
    {
     "name": "stdout",
     "output_type": "stream",
     "text": [
      "경로가 존재합니다.\n",
      "['개인및관계.json', '미용과건강.json', '상거래(쇼핑).json', '시사교육.json', '식음료.json', '여가생활.json', '일과직업.json', '주거와생활.json', '행사.json']\n"
     ]
    }
   ],
   "source": [
    "import os\n",
    "\n",
    "path = \"D:/workspace/sns_dataset/한국어 SNS/Training/[라벨]한국어SNS_train/\"\n",
    "\n",
    "if os.path.exists(path):\n",
    "    print(\"경로가 존재합니다.\")\n",
    "else:\n",
    "    print(\"경로가 존재하지 않습니다.\")\n",
    "\n",
    "files = os.listdir(path)\n",
    "print(files)\n",
    "\n"
   ]
  },
  {
   "cell_type": "code",
   "execution_count": null,
   "metadata": {},
   "outputs": [
    {
     "name": "stdout",
     "output_type": "stream",
     "text": [
      "D:/workspace/sns_dataset/한국어 SNS/Training/[라벨]한국어SNS_train/개인및관계.json\n",
      "D:/workspace/sns_dataset/한국어 SNS/Training/[라벨]한국어SNS_train/미용과건강.json\n",
      "D:/workspace/sns_dataset/한국어 SNS/Training/[라벨]한국어SNS_train/상거래(쇼핑).json\n",
      "D:/workspace/sns_dataset/한국어 SNS/Training/[라벨]한국어SNS_train/시사교육.json\n",
      "D:/workspace/sns_dataset/한국어 SNS/Training/[라벨]한국어SNS_train/식음료.json\n",
      "D:/workspace/sns_dataset/한국어 SNS/Training/[라벨]한국어SNS_train/여가생활.json\n",
      "D:/workspace/sns_dataset/한국어 SNS/Training/[라벨]한국어SNS_train/일과직업.json\n",
      "D:/workspace/sns_dataset/한국어 SNS/Training/[라벨]한국어SNS_train/주거와생활.json\n",
      "D:/workspace/sns_dataset/한국어 SNS/Training/[라벨]한국어SNS_train/행사.json\n",
      "✅ CSV 파일 저장 완료: utterances.csv\n"
     ]
    }
   ],
   "source": [
    "import json\n",
    "import csv\n",
    "\n",
    "# 파일 경로 설정\n",
    "input_json_file = path + '개인및관계.json'  # 대용량 JSON 파일\n",
    "output_csv_file = \"utterances.csv\"  # 출력할 CSV 파일\n",
    "\n",
    "# CSV 파일을 열고 헤더 없이 저장\n",
    "with open(output_csv_file, \"w\", encoding=\"utf-8\", newline=\"\") as csv_file:\n",
    "    writer = csv.writer(csv_file)\n",
    "\n",
    "    for file in files:\n",
    "        input_json_file = path + file\n",
    "        print(input_json_file)\n",
    "        # JSON 파일 열기\n",
    "        with open(input_json_file, \"r\", encoding=\"utf-8\") as json_file:\n",
    "            data = json.load(json_file)  # JSON 파일 전체 로드\n",
    "            \n",
    "            # \"data\" 키 안의 리스트 순회\n",
    "            for item in data[\"data\"]:\n",
    "                for entry in item[\"body\"]:  # \"body\" 안에서 utterance 추출\n",
    "                    writer.writerow([entry[\"utterance\"]])  # utterance 값만 CSV에 저장\n",
    "\n",
    "print(f\"✅ CSV 파일 저장 완료: {output_csv_file}\")\n",
    "\n",
    "\n"
   ]
  },
  {
   "cell_type": "code",
   "execution_count": 1,
   "metadata": {},
   "outputs": [
    {
     "name": "stdout",
     "output_type": "stream",
     "text": [
      "✅ 필터링 완료! 저장된 파일: chat.csv\n"
     ]
    }
   ],
   "source": [
    "# need_replace = [\"#@이모티콘#\", \"#@시스템#삭제#\", \"#@시스템#사진#\", \"#@시스템#동영상#\"]\n",
    "need_replace = [\"#@\"]\n",
    "\n",
    "import csv\n",
    "\n",
    "input_csv_file = \"utterances.csv\"  # 기존 CSV 파일\n",
    "output_csv_file = \"chat.csv\"  # 필터링된 CSV 파일\n",
    "\n",
    "# CSV 파일 열기 및 필터링\n",
    "with open(input_csv_file, \"r\", encoding=\"utf-8\") as infile, open(output_csv_file, \"w\", encoding=\"utf-8\", newline=\"\") as outfile:\n",
    "    reader = csv.reader(infile)\n",
    "    writer = csv.writer(outfile)\n",
    "\n",
    "    for row in reader:\n",
    "        if row and \"#@\" not in row[0]:  # \"#@\"가 포함된 행 제외\n",
    "            writer.writerow(row)\n",
    "\n",
    "print(f\"✅ 필터링 완료! 저장된 파일: {output_csv_file}\")\n"
   ]
  }
 ],
 "metadata": {
  "kernelspec": {
   "display_name": "langchain-kr-46Oa1ic7-py3.11",
   "language": "python",
   "name": "python3"
  },
  "language_info": {
   "codemirror_mode": {
    "name": "ipython",
    "version": 3
   },
   "file_extension": ".py",
   "mimetype": "text/x-python",
   "name": "python",
   "nbconvert_exporter": "python",
   "pygments_lexer": "ipython3",
   "version": "3.11.7"
  }
 },
 "nbformat": 4,
 "nbformat_minor": 2
}
